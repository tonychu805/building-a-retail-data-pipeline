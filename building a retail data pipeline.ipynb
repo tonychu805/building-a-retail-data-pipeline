{
 "cells": [
  {
   "cell_type": "code",
   "execution_count": null,
   "metadata": {},
   "outputs": [],
   "source": [
    "import pandas as pd\n",
    "import numpy as np\n",
    "import logging\n",
    "import os\n"
   ]
  },
  {
   "cell_type": "code",
   "execution_count": null,
   "metadata": {},
   "outputs": [],
   "source": [
    "def extract(a,b):\n",
    "    b_df = pd.read_parquet(b)\n",
    "    merged_df = a.merge(b_df, on = 'index')\n",
    "    return merged_df\n",
    "\n",
    "def transform(df):\n",
    "    df.fillna(\n",
    "        {\n",
    "        'Weekly_Sales': df['Weekly_Sales'].mean(),\n",
    "        'CPI': df['CPI'].mean(),\n",
    "        'Unemployment': df['Unemployment'].mean(),\n",
    "        }, inplace = True\n",
    "    )\n",
    "    \n",
    "    df['Date'] = pd.to_datetime(df['Date'], format = \"%Y-%m-%d\")\n",
    "    df['Month'] = df['Date'].dt.month\n",
    "    \n",
    "    over_10k_df = df.loc[df['Weekly_Sales'] >10000,:]\n",
    "    \n",
    "    df = over_10k_df.drop([\"index\", \"Temperature\", \"Fuel_Price\", \"MarkDown1\", \"MarkDown2\", \"MarkDown3\", \"MarkDown4\",                         \"MarkDown5\", \"Type\", \"Size\", \"Date\"], axis = 1)\n",
    "    return df\n",
    "    \n",
    "def avg_monthly_sales(df):\n",
    " \n",
    "    agg_data = pd.DataFrame(df.groupby('Month')['Weekly_Sales'].mean().round(2)).reset_index().rename(columns ={'Weekly_Sales':'Avg_Sales'})\n",
    "    return agg_data\n",
    "    \n",
    "def load(clean_data, clean_data_path, agg_data, agg_data_path):\n",
    "    clean_data.to_csv('clean_data_path',index=False)\n",
    "    agg_data.to_csv('agg_data_path',index=False)\n",
    "\n",
    "def validation(file):\n",
    "    if os.path.isfile(file) is not True:\n",
    "        return 'File doesnt exist'\n",
    "    else:\n",
    "        return 'File exists'\n",
    "    "
   ]
  },
  {
   "cell_type": "code",
   "execution_count": null,
   "metadata": {},
   "outputs": [],
   "source": [
    "merged_df = extract(grocery_sales, 'extra_data.parquet')\n",
    "clean_data = transform(merged_df)\n",
    "agg_data = avg_monthly_sales(clean_data)\n",
    "load(clean_data, 'clean_data.csv', agg_data, 'agg_data.csv')\n",
    "validation('clean_data.csv')\n",
    "validation('agg_data.csv')"
   ]
  }
 ],
 "metadata": {
  "language_info": {
   "name": "python"
  }
 },
 "nbformat": 4,
 "nbformat_minor": 2
}
